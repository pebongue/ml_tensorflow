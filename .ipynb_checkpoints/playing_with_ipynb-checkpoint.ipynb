{
 "cells": [
  {
   "cell_type": "code",
   "execution_count": 1,
   "id": "b68dabb5",
   "metadata": {},
   "outputs": [
    {
     "name": "stdout",
     "output_type": "stream",
     "text": [
      "Hello My World!\n"
     ]
    }
   ],
   "source": [
    "print('Hello My World!')"
   ]
  },
  {
   "cell_type": "markdown",
   "id": "6f5adc25",
   "metadata": {},
   "source": [
    "let's a = b"
   ]
  },
  {
   "cell_type": "markdown",
   "id": "42adeeb1",
   "metadata": {},
   "source": [
    "# Heading 1 Text"
   ]
  },
  {
   "cell_type": "code",
   "execution_count": 2,
   "id": "5fca613f",
   "metadata": {},
   "outputs": [],
   "source": [
    "def sum(a, b):\n",
    "    return 2*a + b if b > a else a + b"
   ]
  },
  {
   "cell_type": "code",
   "execution_count": 3,
   "id": "fd9db0b0",
   "metadata": {},
   "outputs": [
    {
     "data": {
      "text/plain": [
       "15"
      ]
     },
     "execution_count": 3,
     "metadata": {},
     "output_type": "execute_result"
    }
   ],
   "source": [
    "sum(4, 7)"
   ]
  },
  {
   "cell_type": "markdown",
   "id": "1132b40f",
   "metadata": {},
   "source": [
    "[Visit AfruSoft Design](www.afrusoft.com)"
   ]
  },
  {
   "cell_type": "markdown",
   "id": "b5952a8e",
   "metadata": {},
   "source": [
    "*get me there baby* **this will be bold**"
   ]
  },
  {
   "cell_type": "code",
   "execution_count": 4,
   "id": "5157c1f4",
   "metadata": {},
   "outputs": [
    {
     "data": {
      "text/plain": [
       "'math.random'"
      ]
     },
     "execution_count": 4,
     "metadata": {},
     "output_type": "execute_result"
    }
   ],
   "source": [
    "'math.random'"
   ]
  },
  {
   "cell_type": "markdown",
   "id": "2c5f193e",
   "metadata": {},
   "source": [
    "I think the idea is to have text then code below:\n",
    "'''\n",
    "import math.random\n",
    "sum = a + b\n",
    "'''"
   ]
  },
  {
   "cell_type": "markdown",
   "id": "b9181c75",
   "metadata": {},
   "source": [
    "$e^(i*pi) + 1 = 0$"
   ]
  }
 ],
 "metadata": {
  "kernelspec": {
   "display_name": "Python 3 (ipykernel)",
   "language": "python",
   "name": "python3"
  },
  "language_info": {
   "codemirror_mode": {
    "name": "ipython",
    "version": 3
   },
   "file_extension": ".py",
   "mimetype": "text/x-python",
   "name": "python",
   "nbconvert_exporter": "python",
   "pygments_lexer": "ipython3",
   "version": "3.9.7"
  }
 },
 "nbformat": 4,
 "nbformat_minor": 5
}
